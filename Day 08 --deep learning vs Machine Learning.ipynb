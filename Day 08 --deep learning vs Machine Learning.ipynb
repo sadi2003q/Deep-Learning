{
  "nbformat": 4,
  "nbformat_minor": 0,
  "metadata": {
    "colab": {
      "provenance": [],
      "gpuType": "T4"
    },
    "kernelspec": {
      "name": "python3",
      "display_name": "Python 3"
    },
    "language_info": {
      "name": "python"
    },
    "accelerator": "GPU"
  },
  "cells": [
    {
      "cell_type": "markdown",
      "source": [
        "# Loading Data"
      ],
      "metadata": {
        "id": "sNL1jhV-F3jE"
      }
    },
    {
      "cell_type": "code",
      "source": [
        "from sklearn.datasets import fetch_california_housing"
      ],
      "metadata": {
        "id": "wAXFoLnPXiI2"
      },
      "execution_count": 44,
      "outputs": []
    },
    {
      "cell_type": "code",
      "source": [
        "data = fetch_california_housing()"
      ],
      "metadata": {
        "id": "DAWbh2PeXz4I"
      },
      "execution_count": 45,
      "outputs": []
    },
    {
      "cell_type": "code",
      "source": [
        "x = data.data\n",
        "y = data.target"
      ],
      "metadata": {
        "id": "MOg58jdkX27c"
      },
      "execution_count": 46,
      "outputs": []
    },
    {
      "cell_type": "code",
      "source": [
        "x[0].shape"
      ],
      "metadata": {
        "colab": {
          "base_uri": "https://localhost:8080/"
        },
        "id": "MJvZmabHY6AT",
        "outputId": "a7f4842c-0035-4dbe-cf2a-721c9103e1cc"
      },
      "execution_count": 47,
      "outputs": [
        {
          "output_type": "execute_result",
          "data": {
            "text/plain": [
              "(8,)"
            ]
          },
          "metadata": {},
          "execution_count": 47
        }
      ]
    },
    {
      "cell_type": "markdown",
      "source": [
        "# Model Making"
      ],
      "metadata": {
        "id": "FN70oqQPYLIo"
      }
    },
    {
      "cell_type": "code",
      "source": [
        "import tensorflow\n",
        "from tensorflow import keras\n",
        "from tensorflow.keras import Sequential\n",
        "from tensorflow.keras.layers import Dense"
      ],
      "metadata": {
        "id": "_jxsPG8mX6-J"
      },
      "execution_count": 48,
      "outputs": []
    },
    {
      "cell_type": "code",
      "source": [
        "model = Sequential()\n",
        "model.add(Dense(15, activation='relu', input_dim=8))\n",
        "model.add(Dense(10, activation='relu', input_dim=8))\n",
        "model.add(Dense(7, activation='relu', input_dim=8))\n",
        "model.add(Dense(4, activation='relu', input_dim=8))\n",
        "model.add(Dense(1, activation='linear', input_dim=8))"
      ],
      "metadata": {
        "id": "Vxl2L2IDYa1o"
      },
      "execution_count": 49,
      "outputs": []
    },
    {
      "cell_type": "code",
      "source": [
        "model.compile(loss='mean_squared_error', optimizer='Adam')"
      ],
      "metadata": {
        "id": "yr4kl3f6ZvKQ"
      },
      "execution_count": 50,
      "outputs": []
    },
    {
      "cell_type": "markdown",
      "source": [
        "# Splitting"
      ],
      "metadata": {
        "id": "EmHE25OgaIQi"
      }
    },
    {
      "cell_type": "code",
      "source": [
        "from sklearn.model_selection import train_test_split as split"
      ],
      "metadata": {
        "id": "wherq_XPaGVX"
      },
      "execution_count": 51,
      "outputs": []
    },
    {
      "cell_type": "code",
      "source": [
        "train_x, test_x, train_y, test_y = split(x, y, test_size=0.2)"
      ],
      "metadata": {
        "id": "qLGda9uCaSMu"
      },
      "execution_count": 52,
      "outputs": []
    },
    {
      "cell_type": "markdown",
      "source": [
        "# Data Scaling"
      ],
      "metadata": {
        "id": "bvpzfQm-abL_"
      }
    },
    {
      "cell_type": "code",
      "source": [
        "from sklearn.preprocessing import StandardScaler"
      ],
      "metadata": {
        "id": "I1q5hAQ-aaOP"
      },
      "execution_count": 53,
      "outputs": []
    },
    {
      "cell_type": "code",
      "source": [
        "scaler = StandardScaler()"
      ],
      "metadata": {
        "id": "IJ3ivPiZam0w"
      },
      "execution_count": 54,
      "outputs": []
    },
    {
      "cell_type": "code",
      "source": [
        "train_x = scaler.fit_transform(train_x)\n",
        "test_x = scaler.transform(test_x)"
      ],
      "metadata": {
        "id": "fZjkfDFYaf1i"
      },
      "execution_count": 55,
      "outputs": []
    },
    {
      "cell_type": "markdown",
      "source": [
        "# Model Training"
      ],
      "metadata": {
        "id": "UebI6BYEaw_o"
      }
    },
    {
      "cell_type": "code",
      "source": [
        "history = model.fit(train_x, train_y, epochs=50, validation_split=0.1)"
      ],
      "metadata": {
        "colab": {
          "base_uri": "https://localhost:8080/"
        },
        "id": "3zZ5XLmkavt3",
        "outputId": "7aba0998-d8d5-4ae7-c2d6-bb2b5de9c0d9"
      },
      "execution_count": 56,
      "outputs": [
        {
          "output_type": "stream",
          "name": "stdout",
          "text": [
            "Epoch 1/50\n",
            "465/465 [==============================] - 3s 4ms/step - loss: 1.9109 - val_loss: 0.5937\n",
            "Epoch 2/50\n",
            "465/465 [==============================] - 2s 3ms/step - loss: 0.5321 - val_loss: 0.4420\n",
            "Epoch 3/50\n",
            "465/465 [==============================] - 2s 3ms/step - loss: 0.4224 - val_loss: 0.3929\n",
            "Epoch 4/50\n",
            "465/465 [==============================] - 2s 5ms/step - loss: 0.3902 - val_loss: 0.3807\n",
            "Epoch 5/50\n",
            "465/465 [==============================] - 2s 4ms/step - loss: 0.3704 - val_loss: 0.3703\n",
            "Epoch 6/50\n",
            "465/465 [==============================] - 2s 4ms/step - loss: 0.3606 - val_loss: 0.3680\n",
            "Epoch 7/50\n",
            "465/465 [==============================] - 2s 3ms/step - loss: 0.3535 - val_loss: 0.3560\n",
            "Epoch 8/50\n",
            "465/465 [==============================] - 2s 3ms/step - loss: 0.3454 - val_loss: 0.3463\n",
            "Epoch 9/50\n",
            "465/465 [==============================] - 2s 3ms/step - loss: 0.3372 - val_loss: 0.3409\n",
            "Epoch 10/50\n",
            "465/465 [==============================] - 2s 3ms/step - loss: 0.3348 - val_loss: 0.3418\n",
            "Epoch 11/50\n",
            "465/465 [==============================] - 2s 4ms/step - loss: 0.3278 - val_loss: 0.3460\n",
            "Epoch 12/50\n",
            "465/465 [==============================] - 2s 5ms/step - loss: 0.3221 - val_loss: 0.3553\n",
            "Epoch 13/50\n",
            "465/465 [==============================] - 2s 3ms/step - loss: 0.3199 - val_loss: 0.3254\n",
            "Epoch 14/50\n",
            "465/465 [==============================] - 2s 3ms/step - loss: 0.3165 - val_loss: 0.3301\n",
            "Epoch 15/50\n",
            "465/465 [==============================] - 2s 3ms/step - loss: 0.3167 - val_loss: 0.3141\n",
            "Epoch 16/50\n",
            "465/465 [==============================] - 2s 4ms/step - loss: 0.3078 - val_loss: 0.3071\n",
            "Epoch 17/50\n",
            "465/465 [==============================] - 2s 3ms/step - loss: 0.3050 - val_loss: 0.3320\n",
            "Epoch 18/50\n",
            "465/465 [==============================] - 2s 4ms/step - loss: 0.3018 - val_loss: 0.3037\n",
            "Epoch 19/50\n",
            "465/465 [==============================] - 3s 6ms/step - loss: 0.3035 - val_loss: 0.3054\n",
            "Epoch 20/50\n",
            "465/465 [==============================] - 2s 4ms/step - loss: 0.3000 - val_loss: 0.3033\n",
            "Epoch 21/50\n",
            "465/465 [==============================] - 2s 4ms/step - loss: 0.2958 - val_loss: 0.2992\n",
            "Epoch 22/50\n",
            "465/465 [==============================] - 2s 4ms/step - loss: 0.2936 - val_loss: 0.3012\n",
            "Epoch 23/50\n",
            "465/465 [==============================] - 2s 4ms/step - loss: 0.2910 - val_loss: 0.2965\n",
            "Epoch 24/50\n",
            "465/465 [==============================] - 2s 4ms/step - loss: 0.2901 - val_loss: 0.2928\n",
            "Epoch 25/50\n",
            "465/465 [==============================] - 2s 4ms/step - loss: 0.2893 - val_loss: 0.3006\n",
            "Epoch 26/50\n",
            "465/465 [==============================] - 2s 5ms/step - loss: 0.2876 - val_loss: 0.2928\n",
            "Epoch 27/50\n",
            "465/465 [==============================] - 2s 4ms/step - loss: 0.2847 - val_loss: 0.2912\n",
            "Epoch 28/50\n",
            "465/465 [==============================] - 2s 4ms/step - loss: 0.2851 - val_loss: 0.2874\n",
            "Epoch 29/50\n",
            "465/465 [==============================] - 2s 4ms/step - loss: 0.2832 - val_loss: 0.2934\n",
            "Epoch 30/50\n",
            "465/465 [==============================] - 2s 3ms/step - loss: 0.2824 - val_loss: 0.2959\n",
            "Epoch 31/50\n",
            "465/465 [==============================] - 2s 4ms/step - loss: 0.2833 - val_loss: 0.2896\n",
            "Epoch 32/50\n",
            "465/465 [==============================] - 2s 4ms/step - loss: 0.2807 - val_loss: 0.2831\n",
            "Epoch 33/50\n",
            "465/465 [==============================] - 3s 6ms/step - loss: 0.2803 - val_loss: 0.2846\n",
            "Epoch 34/50\n",
            "465/465 [==============================] - 2s 4ms/step - loss: 0.2797 - val_loss: 0.2881\n",
            "Epoch 35/50\n",
            "465/465 [==============================] - 2s 4ms/step - loss: 0.2784 - val_loss: 0.2848\n",
            "Epoch 36/50\n",
            "465/465 [==============================] - 2s 4ms/step - loss: 0.2816 - val_loss: 0.2874\n",
            "Epoch 37/50\n",
            "465/465 [==============================] - 2s 4ms/step - loss: 0.2798 - val_loss: 0.2860\n",
            "Epoch 38/50\n",
            "465/465 [==============================] - 2s 4ms/step - loss: 0.2760 - val_loss: 0.2978\n",
            "Epoch 39/50\n",
            "465/465 [==============================] - 3s 6ms/step - loss: 0.2748 - val_loss: 0.2809\n",
            "Epoch 40/50\n",
            "465/465 [==============================] - 2s 5ms/step - loss: 0.2772 - val_loss: 0.2847\n",
            "Epoch 41/50\n",
            "465/465 [==============================] - 2s 4ms/step - loss: 0.2741 - val_loss: 0.2798\n",
            "Epoch 42/50\n",
            "465/465 [==============================] - 2s 4ms/step - loss: 0.2728 - val_loss: 0.2864\n",
            "Epoch 43/50\n",
            "465/465 [==============================] - 2s 4ms/step - loss: 0.2722 - val_loss: 0.2763\n",
            "Epoch 44/50\n",
            "465/465 [==============================] - 2s 4ms/step - loss: 0.2724 - val_loss: 0.2770\n",
            "Epoch 45/50\n",
            "465/465 [==============================] - 2s 4ms/step - loss: 0.2707 - val_loss: 0.2816\n",
            "Epoch 46/50\n",
            "465/465 [==============================] - 2s 4ms/step - loss: 0.2719 - val_loss: 0.2835\n",
            "Epoch 47/50\n",
            "465/465 [==============================] - 2s 5ms/step - loss: 0.2715 - val_loss: 0.2753\n",
            "Epoch 48/50\n",
            "465/465 [==============================] - 2s 4ms/step - loss: 0.2706 - val_loss: 0.2776\n",
            "Epoch 49/50\n",
            "465/465 [==============================] - 2s 3ms/step - loss: 0.2691 - val_loss: 0.2743\n",
            "Epoch 50/50\n",
            "465/465 [==============================] - 2s 4ms/step - loss: 0.2695 - val_loss: 0.2772\n"
          ]
        }
      ]
    },
    {
      "cell_type": "markdown",
      "source": [
        "# Model Evaluation"
      ],
      "metadata": {
        "id": "ygSBtyPYbSJl"
      }
    },
    {
      "cell_type": "code",
      "source": [
        "from sklearn.metrics import r2_score as score"
      ],
      "metadata": {
        "id": "tQaxMni1bBaq"
      },
      "execution_count": 57,
      "outputs": []
    },
    {
      "cell_type": "code",
      "source": [
        "predict = model.predict(test_x)"
      ],
      "metadata": {
        "colab": {
          "base_uri": "https://localhost:8080/"
        },
        "id": "azEz_TmQbbhb",
        "outputId": "4b45947f-db80-476e-f8cc-6c61038db9d4"
      },
      "execution_count": 58,
      "outputs": [
        {
          "output_type": "stream",
          "name": "stdout",
          "text": [
            "129/129 [==============================] - 0s 2ms/step\n"
          ]
        }
      ]
    },
    {
      "cell_type": "code",
      "source": [
        "score(test_y, predict)"
      ],
      "metadata": {
        "colab": {
          "base_uri": "https://localhost:8080/"
        },
        "id": "asyPthVObk28",
        "outputId": "708f1f26-4ad3-46d7-b67e-6ee45be7e187"
      },
      "execution_count": 59,
      "outputs": [
        {
          "output_type": "execute_result",
          "data": {
            "text/plain": [
              "0.7782530114193085"
            ]
          },
          "metadata": {},
          "execution_count": 59
        }
      ]
    },
    {
      "cell_type": "markdown",
      "source": [
        "# Machine Learning Algorithm"
      ],
      "metadata": {
        "id": "xm0IwZsCcTpx"
      }
    },
    {
      "cell_type": "code",
      "source": [
        "from sklearn.linear_model import LinearRegression\n",
        "from sklearn.tree import DecisionTreeRegressor\n",
        "model = DecisionTreeRegressor(max_depth=10)\n",
        "model.fit(train_x, train_y)\n",
        "predict = model.predict(test_x)\n",
        "score(test_y, predict)"
      ],
      "metadata": {
        "colab": {
          "base_uri": "https://localhost:8080/"
        },
        "id": "MjhtnWrBbnuj",
        "outputId": "e8566a7b-388b-403e-e9bb-540fac1cc55f"
      },
      "execution_count": 60,
      "outputs": [
        {
          "output_type": "execute_result",
          "data": {
            "text/plain": [
              "0.6826214504445074"
            ]
          },
          "metadata": {},
          "execution_count": 60
        }
      ]
    },
    {
      "cell_type": "code",
      "source": [],
      "metadata": {
        "id": "oj68SlgJck3v"
      },
      "execution_count": 60,
      "outputs": []
    }
  ]
}