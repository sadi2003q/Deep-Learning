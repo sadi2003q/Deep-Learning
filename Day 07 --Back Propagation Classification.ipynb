{
  "nbformat": 4,
  "nbformat_minor": 0,
  "metadata": {
    "colab": {
      "provenance": [],
      "gpuType": "T4"
    },
    "kernelspec": {
      "name": "python3",
      "display_name": "Python 3"
    },
    "language_info": {
      "name": "python"
    },
    "accelerator": "GPU"
  },
  "cells": [
    {
      "cell_type": "markdown",
      "source": [
        "# Loading Data"
      ],
      "metadata": {
        "id": "sNL1jhV-F3jE"
      }
    },
    {
      "cell_type": "code",
      "source": [
        "from sklearn.datasets import load_breast_cancer"
      ],
      "metadata": {
        "id": "OkSOTrojh8Xc"
      },
      "execution_count": 74,
      "outputs": []
    },
    {
      "cell_type": "code",
      "source": [
        "data = load_breast_cancer()"
      ],
      "metadata": {
        "id": "h0iRTMDyh9XH"
      },
      "execution_count": 75,
      "outputs": []
    },
    {
      "cell_type": "code",
      "source": [
        "x = data.data\n",
        "y = data.target"
      ],
      "metadata": {
        "id": "RxyEd9Zsp249"
      },
      "execution_count": 76,
      "outputs": []
    },
    {
      "cell_type": "markdown",
      "source": [
        "# Model Building"
      ],
      "metadata": {
        "id": "wikFdZarF7lW"
      }
    },
    {
      "cell_type": "code",
      "source": [
        "import tensorflow\n",
        "from tensorflow import keras\n",
        "from tensorflow.keras import Sequential\n",
        "from tensorflow.keras.layers import Dense"
      ],
      "metadata": {
        "id": "8-BxczPFF0cv"
      },
      "execution_count": 77,
      "outputs": []
    },
    {
      "cell_type": "code",
      "source": [
        "model = Sequential()\n",
        "model.add(Dense(20 , activation='relu', input_dim=30))\n",
        "model.add(Dense(10 , activation='relu', input_dim=30))\n",
        "model.add(Dense(5 , activation='relu', input_dim=30))\n",
        "model.add(Dense(3 , activation='relu', input_dim=30))\n",
        "model.add(Dense(1, activation='sigmoid', input_dim=30))"
      ],
      "metadata": {
        "id": "1-tgr9KGGO6v"
      },
      "execution_count": 78,
      "outputs": []
    },
    {
      "cell_type": "code",
      "source": [
        "model.summary()"
      ],
      "metadata": {
        "colab": {
          "base_uri": "https://localhost:8080/"
        },
        "id": "SfRkTGlVGtaq",
        "outputId": "7cbb5368-a915-45cd-d367-890806257c73"
      },
      "execution_count": 79,
      "outputs": [
        {
          "output_type": "stream",
          "name": "stdout",
          "text": [
            "Model: \"sequential_4\"\n",
            "_________________________________________________________________\n",
            " Layer (type)                Output Shape              Param #   \n",
            "=================================================================\n",
            " dense_16 (Dense)            (None, 20)                620       \n",
            "                                                                 \n",
            " dense_17 (Dense)            (None, 10)                210       \n",
            "                                                                 \n",
            " dense_18 (Dense)            (None, 5)                 55        \n",
            "                                                                 \n",
            " dense_19 (Dense)            (None, 3)                 18        \n",
            "                                                                 \n",
            " dense_20 (Dense)            (None, 1)                 4         \n",
            "                                                                 \n",
            "=================================================================\n",
            "Total params: 907 (3.54 KB)\n",
            "Trainable params: 907 (3.54 KB)\n",
            "Non-trainable params: 0 (0.00 Byte)\n",
            "_________________________________________________________________\n"
          ]
        }
      ]
    },
    {
      "cell_type": "code",
      "source": [
        "model.compile(loss='binary_crossentropy', optimizer='Adam')"
      ],
      "metadata": {
        "id": "nwEY8aTiHSv4"
      },
      "execution_count": 80,
      "outputs": []
    },
    {
      "cell_type": "markdown",
      "source": [
        "# Splitting"
      ],
      "metadata": {
        "id": "QyUhg4PkIXjQ"
      }
    },
    {
      "cell_type": "code",
      "source": [
        "from sklearn.model_selection import train_test_split as split"
      ],
      "metadata": {
        "id": "uGNj_JqOIB9i"
      },
      "execution_count": 81,
      "outputs": []
    },
    {
      "cell_type": "code",
      "source": [
        "train_x, test_x, train_y, test_y = split(x, y, test_size=0.2)"
      ],
      "metadata": {
        "id": "IG2N_C_HIp9Y"
      },
      "execution_count": 82,
      "outputs": []
    },
    {
      "cell_type": "markdown",
      "source": [
        "# Data Scaling"
      ],
      "metadata": {
        "id": "a3y4QX6TJ3yn"
      }
    },
    {
      "cell_type": "code",
      "source": [
        "from sklearn.preprocessing import StandardScaler"
      ],
      "metadata": {
        "id": "1ZBpK6eTKHQI"
      },
      "execution_count": 83,
      "outputs": []
    },
    {
      "cell_type": "code",
      "source": [
        "scaler = StandardScaler()"
      ],
      "metadata": {
        "id": "jE_7alkNLaTM"
      },
      "execution_count": 84,
      "outputs": []
    },
    {
      "cell_type": "code",
      "source": [
        "train_x = scaler.fit_transform(train_x)\n",
        "test_x = scaler.transform(test_x)"
      ],
      "metadata": {
        "id": "_p9mxXMvLYCo"
      },
      "execution_count": 85,
      "outputs": []
    },
    {
      "cell_type": "markdown",
      "source": [
        "# Model Fitting"
      ],
      "metadata": {
        "id": "VbWWRP0GI1Jf"
      }
    },
    {
      "cell_type": "code",
      "source": [
        "history = model.fit(train_x, train_y, epochs=30)"
      ],
      "metadata": {
        "colab": {
          "base_uri": "https://localhost:8080/"
        },
        "id": "Dkm-7cGFIz2f",
        "outputId": "19d1b3b9-4088-49ef-ece3-49e45342d571"
      },
      "execution_count": 86,
      "outputs": [
        {
          "output_type": "stream",
          "name": "stdout",
          "text": [
            "Epoch 1/30\n",
            "15/15 [==============================] - 2s 4ms/step - loss: 0.7160\n",
            "Epoch 2/30\n",
            "15/15 [==============================] - 0s 4ms/step - loss: 0.6382\n",
            "Epoch 3/30\n",
            "15/15 [==============================] - 0s 4ms/step - loss: 0.5869\n",
            "Epoch 4/30\n",
            "15/15 [==============================] - 0s 4ms/step - loss: 0.5487\n",
            "Epoch 5/30\n",
            "15/15 [==============================] - 0s 4ms/step - loss: 0.5170\n",
            "Epoch 6/30\n",
            "15/15 [==============================] - 0s 3ms/step - loss: 0.4922\n",
            "Epoch 7/30\n",
            "15/15 [==============================] - 0s 6ms/step - loss: 0.4728\n",
            "Epoch 8/30\n",
            "15/15 [==============================] - 0s 8ms/step - loss: 0.4574\n",
            "Epoch 9/30\n",
            "15/15 [==============================] - 0s 9ms/step - loss: 0.4453\n",
            "Epoch 10/30\n",
            "15/15 [==============================] - 0s 9ms/step - loss: 0.4342\n",
            "Epoch 11/30\n",
            "15/15 [==============================] - 0s 13ms/step - loss: 0.4250\n",
            "Epoch 12/30\n",
            "15/15 [==============================] - 0s 6ms/step - loss: 0.4164\n",
            "Epoch 13/30\n",
            "15/15 [==============================] - 0s 7ms/step - loss: 0.4086\n",
            "Epoch 14/30\n",
            "15/15 [==============================] - 0s 5ms/step - loss: 0.4015\n",
            "Epoch 15/30\n",
            "15/15 [==============================] - 0s 4ms/step - loss: 0.3950\n",
            "Epoch 16/30\n",
            "15/15 [==============================] - 0s 4ms/step - loss: 0.3890\n",
            "Epoch 17/30\n",
            "15/15 [==============================] - 0s 3ms/step - loss: 0.3826\n",
            "Epoch 18/30\n",
            "15/15 [==============================] - 0s 3ms/step - loss: 0.3771\n",
            "Epoch 19/30\n",
            "15/15 [==============================] - 0s 4ms/step - loss: 0.3717\n",
            "Epoch 20/30\n",
            "15/15 [==============================] - 0s 4ms/step - loss: 0.3665\n",
            "Epoch 21/30\n",
            "15/15 [==============================] - 0s 6ms/step - loss: 0.3614\n",
            "Epoch 22/30\n",
            "15/15 [==============================] - 0s 9ms/step - loss: 0.3565\n",
            "Epoch 23/30\n",
            "15/15 [==============================] - 0s 15ms/step - loss: 0.3520\n",
            "Epoch 24/30\n",
            "15/15 [==============================] - 0s 12ms/step - loss: 0.3473\n",
            "Epoch 25/30\n",
            "15/15 [==============================] - 0s 13ms/step - loss: 0.3429\n",
            "Epoch 26/30\n",
            "15/15 [==============================] - 0s 13ms/step - loss: 0.3386\n",
            "Epoch 27/30\n",
            "15/15 [==============================] - 0s 9ms/step - loss: 0.3345\n",
            "Epoch 28/30\n",
            "15/15 [==============================] - 0s 6ms/step - loss: 0.3303\n",
            "Epoch 29/30\n",
            "15/15 [==============================] - 0s 5ms/step - loss: 0.3264\n",
            "Epoch 30/30\n",
            "15/15 [==============================] - 0s 5ms/step - loss: 0.3226\n"
          ]
        }
      ]
    },
    {
      "cell_type": "markdown",
      "source": [
        "# Model Prediction"
      ],
      "metadata": {
        "id": "zMtfmQjQJVyP"
      }
    },
    {
      "cell_type": "code",
      "source": [
        "import numpy as np"
      ],
      "metadata": {
        "id": "5RWLHIdfQw7n"
      },
      "execution_count": 87,
      "outputs": []
    },
    {
      "cell_type": "code",
      "source": [
        "y_prob = model.predict(test_x)"
      ],
      "metadata": {
        "colab": {
          "base_uri": "https://localhost:8080/"
        },
        "id": "wHQpMf2kJPyn",
        "outputId": "22495e26-0c68-4708-b814-17ecf8181dbf"
      },
      "execution_count": 88,
      "outputs": [
        {
          "output_type": "stream",
          "name": "stdout",
          "text": [
            "4/4 [==============================] - 0s 4ms/step\n"
          ]
        }
      ]
    },
    {
      "cell_type": "code",
      "source": [
        "prediction = np.where(y_prob>0.5, 1, 0)"
      ],
      "metadata": {
        "id": "-dIL1vUGJyGC"
      },
      "execution_count": 89,
      "outputs": []
    },
    {
      "cell_type": "markdown",
      "source": [
        "# Model Evaluation"
      ],
      "metadata": {
        "id": "5oy-S5e1RqpQ"
      }
    },
    {
      "cell_type": "code",
      "source": [
        "from sklearn.metrics import accuracy_score as score"
      ],
      "metadata": {
        "id": "mQOBhcSoJzh0"
      },
      "execution_count": 90,
      "outputs": []
    },
    {
      "cell_type": "code",
      "source": [
        "score(test_y, prediction)"
      ],
      "metadata": {
        "colab": {
          "base_uri": "https://localhost:8080/"
        },
        "id": "xOtDZzq7Q7aF",
        "outputId": "2c09bc45-8d1f-49d4-8788-40d72bb6cdd8"
      },
      "execution_count": 91,
      "outputs": [
        {
          "output_type": "execute_result",
          "data": {
            "text/plain": [
              "0.9824561403508771"
            ]
          },
          "metadata": {},
          "execution_count": 91
        }
      ]
    },
    {
      "cell_type": "code",
      "source": [],
      "metadata": {
        "id": "fzNVIbZGRy12"
      },
      "execution_count": 91,
      "outputs": []
    }
  ]
}