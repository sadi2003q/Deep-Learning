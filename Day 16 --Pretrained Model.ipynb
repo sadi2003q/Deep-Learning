{
  "cells": [
    {
      "cell_type": "code",
      "source": [
        "# import pandas as pd"
      ],
      "metadata": {
        "id": "NlSeLZ72DdyP"
      },
      "execution_count": 26,
      "outputs": []
    },
    {
      "cell_type": "code",
      "source": [
        "# !mkdir -p ~/.kaggle\n",
        "# !cp kaggle.json ~/.kaggle/"
      ],
      "metadata": {
        "id": "izyUC4R5EEmr"
      },
      "execution_count": 27,
      "outputs": []
    },
    {
      "cell_type": "code",
      "source": [
        "# !kaggle datasets download -d tongpython/cat-and-dog"
      ],
      "metadata": {
        "colab": {
          "base_uri": "https://localhost:8080/"
        },
        "id": "a_UddQklDfbx",
        "outputId": "a4b0507f-f3d3-47e1-cfd9-ba22ba3bfac8"
      },
      "execution_count": 28,
      "outputs": [
        {
          "output_type": "stream",
          "name": "stdout",
          "text": [
            "Warning: Your Kaggle API key is readable by other users on this system! To fix this, you can run 'chmod 600 /root/.kaggle/kaggle.json'\n",
            "Dataset URL: https://www.kaggle.com/datasets/tongpython/cat-and-dog\n",
            "License(s): CC0-1.0\n",
            "Downloading cat-and-dog.zip to /content\n",
            " 96% 209M/218M [00:01<00:00, 106MB/s]\n",
            "100% 218M/218M [00:01<00:00, 128MB/s]\n"
          ]
        }
      ]
    },
    {
      "cell_type": "code",
      "source": [
        "# import zipfile\n",
        "# zip_ref = zipfile.ZipFile('/content/cat-and-dog.zip', 'r')\n",
        "# zip_ref.extractall('/content')\n",
        "# zip_ref.close()"
      ],
      "metadata": {
        "id": "K9qvcOvDEeXv"
      },
      "execution_count": 29,
      "outputs": []
    },
    {
      "cell_type": "code",
      "source": [
        "import tensorflow\n",
        "from tensorflow import keras\n",
        "from keras.preprocessing import image\n",
        "from tensorflow.keras.preprocessing.image import ImageDataGenerator"
      ],
      "metadata": {
        "id": "ics5y-qjj98v"
      },
      "execution_count": 43,
      "outputs": []
    },
    {
      "cell_type": "code",
      "source": [
        "from tensorflow.keras.applications.efficientnet_v2 import EfficientNetV2L, preprocess_input, decode_predictions"
      ],
      "metadata": {
        "id": "R2blyeoXxj08"
      },
      "execution_count": 87,
      "outputs": []
    },
    {
      "cell_type": "code",
      "source": [
        "import cv2\n",
        "import numpy as np\n",
        "\n",
        "# Load the model\n",
        "model = EfficientNetV2L(\n",
        "    include_top=True,\n",
        "    weights=\"imagenet\",\n",
        "    input_shape=(480, 480, 3),\n",
        "    classifier_activation=\"softmax\",\n",
        ")\n",
        "\n",
        "# Load and preprocess the image\n",
        "image = cv2.imread('/content/dog.jpeg')\n",
        "image = cv2.resize(image, (480, 480))\n",
        "image = cv2.cvtColor(image, cv2.COLOR_BGR2RGB)  # Convert BGR to RGB\n",
        "image = np.expand_dims(image, axis=0)  # Add batch dimension\n",
        "\n",
        "# Preprocess the image for EfficientNetV2\n",
        "image = preprocess_input(image)\n",
        "\n",
        "# Make a prediction\n",
        "predict = model.predict(image)\n",
        "\n",
        "print(predict)"
      ],
      "metadata": {
        "id": "ZLXZKWpH24xr"
      },
      "execution_count": null,
      "outputs": []
    },
    {
      "cell_type": "code",
      "source": [
        "decoded_predictions = decode_predictions(predict, top=5)[0]\n",
        "print(decoded_predictions)"
      ],
      "metadata": {
        "colab": {
          "base_uri": "https://localhost:8080/"
        },
        "id": "o-n1qO8729I5",
        "outputId": "068ffac5-e918-421c-b2c1-382660bf65fb"
      },
      "execution_count": 88,
      "outputs": [
        {
          "output_type": "stream",
          "name": "stdout",
          "text": [
            "Downloading data from https://storage.googleapis.com/download.tensorflow.org/data/imagenet_class_index.json\n",
            "\u001b[1m35363/35363\u001b[0m \u001b[32m━━━━━━━━━━━━━━━━━━━━\u001b[0m\u001b[37m\u001b[0m \u001b[1m0s\u001b[0m 0us/step\n",
            "[('n02099601', 'golden_retriever', 0.82265973), ('n02099712', 'Labrador_retriever', 0.013592462), ('n02104029', 'kuvasz', 0.003939053), ('n02102480', 'Sussex_spaniel', 0.0024432736), ('n04409515', 'tennis_ball', 0.0021168892)]\n"
          ]
        }
      ]
    },
    {
      "cell_type": "code",
      "source": [],
      "metadata": {
        "id": "ZKMjxBZM4NeA"
      },
      "execution_count": null,
      "outputs": []
    }
  ],
  "metadata": {
    "accelerator": "GPU",
    "colab": {
      "gpuType": "T4",
      "provenance": []
    },
    "kernelspec": {
      "display_name": "Python 3",
      "name": "python3"
    },
    "language_info": {
      "name": "python"
    }
  },
  "nbformat": 4,
  "nbformat_minor": 0
}